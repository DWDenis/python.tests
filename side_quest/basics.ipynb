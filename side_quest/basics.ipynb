{
 "cells": [
  {
   "cell_type": "code",
   "execution_count": null,
   "metadata": {},
   "outputs": [],
   "source": [
    "# using the hexadecimals to find the key\n",
    "\n",
    "bytes.fromhex('63727970746f7b596f755f77696c6c5f62655f776f726b696e675f776974685f6865785f737472696e67735f615f6c6f747d')"
   ]
  },
  {
   "cell_type": "code",
   "execution_count": 32,
   "metadata": {},
   "outputs": [
    {
     "data": {
      "text/plain": [
       "b'crypto/Base+64+Encoding+is+Web+Safe/'"
      ]
     },
     "execution_count": 32,
     "metadata": {},
     "output_type": "execute_result"
    }
   ],
   "source": [
    "import base64\n",
    "\n",
    "code = '72bca9b68fc16ac7beeb8f849dca1d8a783e8acf9679bf9269f7bf'\n",
    "\n",
    "base64.b64encode(bytes.fromhex(code))"
   ]
  },
  {
   "cell_type": "code",
   "execution_count": null,
   "metadata": {},
   "outputs": [],
   "source": [
    "# utilizing the ASCII to identify the key frase\n",
    "\n",
    "x = [99, 114, 121, 112, 116, 111, 123, 65, 83, 67, 73, 73, 95, 112, 114, 49, 110, 116, 52, 98, 108, 51, 125]\n",
    "\n",
    "\n",
    "for i in x:\n",
    "    print(chr(i))"
   ]
  },
  {
   "cell_type": "code",
   "execution_count": 25,
   "metadata": {},
   "outputs": [
    {
     "name": "stdout",
     "output_type": "stream",
     "text": [
      "\u001b[1;31mSignature:\u001b[0m \u001b[0mlong_to_bytes\u001b[0m\u001b[1;33m(\u001b[0m\u001b[0mn\u001b[0m\u001b[1;33m,\u001b[0m \u001b[0mblocksize\u001b[0m\u001b[1;33m=\u001b[0m\u001b[1;36m0\u001b[0m\u001b[1;33m)\u001b[0m\u001b[1;33m\u001b[0m\u001b[1;33m\u001b[0m\u001b[0m\n",
      "\u001b[1;31mDocstring:\u001b[0m\n",
      "Convert a positive integer to a byte string using big endian encoding.\n",
      "\n",
      "If :data:`blocksize` is absent or zero, the byte string will\n",
      "be of minimal length.\n",
      "\n",
      "Otherwise, the length of the byte string is guaranteed to be a multiple\n",
      "of :data:`blocksize`. If necessary, zeroes (``\\x00``) are added at the left.\n",
      "\n",
      ".. note::\n",
      "    In Python 3, if you are sure that :data:`n` can fit into\n",
      "    :data:`blocksize` bytes, you can simply use the native method instead::\n",
      "\n",
      "        >>> n.to_bytes(blocksize, 'big')\n",
      "\n",
      "    For instance::\n",
      "\n",
      "        >>> n = 80\n",
      "        >>> n.to_bytes(2, 'big')\n",
      "        b'\\x00P'\n",
      "\n",
      "    However, and unlike this ``long_to_bytes()`` function,\n",
      "    an ``OverflowError`` exception is raised if :data:`n` does not fit.\n",
      "\u001b[1;31mFile:\u001b[0m      c:\\users\\denis\\appdata\\roaming\\python\\python312\\site-packages\\crypto\\util\\number.py\n",
      "\u001b[1;31mType:\u001b[0m      function"
     ]
    }
   ],
   "source": [
    "import Crypto\n",
    "from Crypto.Util.number import *\n",
    "import base64\n",
    "\n",
    "x = \"11515195063862318899931685488813747395775516287289682636499965282714637259206269\"\n",
    "\n",
    "y = int(x, base=16)\n",
    "\n",
    "long_to_bytes?"
   ]
  },
  {
   "cell_type": "code",
   "execution_count": 33,
   "metadata": {},
   "outputs": [
    {
     "name": "stdout",
     "output_type": "stream",
     "text": [
      "0x63727970746f7b336e633064316e365f346c6c5f3768335f7734795f6430776e7d\n"
     ]
    },
    {
     "ename": "TypeError",
     "evalue": "'<' not supported between instances of 'str' and 'int'",
     "output_type": "error",
     "traceback": [
      "\u001b[1;31m---------------------------------------------------------------------------\u001b[0m",
      "\u001b[1;31mTypeError\u001b[0m                                 Traceback (most recent call last)",
      "Cell \u001b[1;32mIn[33], line 5\u001b[0m\n\u001b[0;32m      2\u001b[0m hex_number \u001b[38;5;241m=\u001b[39m \u001b[38;5;28mhex\u001b[39m(decimal_number)\n\u001b[0;32m      3\u001b[0m \u001b[38;5;28mprint\u001b[39m(hex_number)  \u001b[38;5;66;03m# Output: '0xff'\u001b[39;00m\n\u001b[1;32m----> 5\u001b[0m \u001b[43mlong_to_bytes\u001b[49m\u001b[43m(\u001b[49m\u001b[43mhex_number\u001b[49m\u001b[43m)\u001b[49m\n",
      "File \u001b[1;32m~\\AppData\\Roaming\\Python\\Python312\\site-packages\\Crypto\\Util\\number.py:432\u001b[0m, in \u001b[0;36mlong_to_bytes\u001b[1;34m(n, blocksize)\u001b[0m\n\u001b[0;32m    407\u001b[0m \u001b[38;5;28;01mdef\u001b[39;00m \u001b[38;5;21mlong_to_bytes\u001b[39m(n, blocksize\u001b[38;5;241m=\u001b[39m\u001b[38;5;241m0\u001b[39m):\n\u001b[0;32m    408\u001b[0m \u001b[38;5;250m    \u001b[39m\u001b[38;5;124;03m\"\"\"Convert a positive integer to a byte string using big endian encoding.\u001b[39;00m\n\u001b[0;32m    409\u001b[0m \n\u001b[0;32m    410\u001b[0m \u001b[38;5;124;03m    If :data:`blocksize` is absent or zero, the byte string will\u001b[39;00m\n\u001b[1;32m   (...)\u001b[0m\n\u001b[0;32m    429\u001b[0m \u001b[38;5;124;03m        an ``OverflowError`` exception is raised if :data:`n` does not fit.\u001b[39;00m\n\u001b[0;32m    430\u001b[0m \u001b[38;5;124;03m    \"\"\"\u001b[39;00m\n\u001b[1;32m--> 432\u001b[0m     \u001b[38;5;28;01mif\u001b[39;00m \u001b[43mn\u001b[49m\u001b[43m \u001b[49m\u001b[38;5;241;43m<\u001b[39;49m\u001b[43m \u001b[49m\u001b[38;5;241;43m0\u001b[39;49m \u001b[38;5;129;01mor\u001b[39;00m blocksize \u001b[38;5;241m<\u001b[39m \u001b[38;5;241m0\u001b[39m:\n\u001b[0;32m    433\u001b[0m         \u001b[38;5;28;01mraise\u001b[39;00m \u001b[38;5;167;01mValueError\u001b[39;00m(\u001b[38;5;124m\"\u001b[39m\u001b[38;5;124mValues must be non-negative\u001b[39m\u001b[38;5;124m\"\u001b[39m)\n\u001b[0;32m    435\u001b[0m     result \u001b[38;5;241m=\u001b[39m []\n",
      "\u001b[1;31mTypeError\u001b[0m: '<' not supported between instances of 'str' and 'int'"
     ]
    }
   ],
   "source": [
    "decimal_number = 11515195063862318899931685488813747395775516287289682636499965282714637259206269\n",
    "hex_number = hex(decimal_number)\n",
    "print(hex_number)  # Output: '0xff'\n",
    "\n",
    "long_to_bytes(hex_number)"
   ]
  }
 ],
 "metadata": {
  "kernelspec": {
   "display_name": "Python 3",
   "language": "python",
   "name": "python3"
  },
  "language_info": {
   "codemirror_mode": {
    "name": "ipython",
    "version": 3
   },
   "file_extension": ".py",
   "mimetype": "text/x-python",
   "name": "python",
   "nbconvert_exporter": "python",
   "pygments_lexer": "ipython3",
   "version": "3.12.4"
  }
 },
 "nbformat": 4,
 "nbformat_minor": 2
}
